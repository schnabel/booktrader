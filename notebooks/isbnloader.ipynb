{
 "cells": [
  {
   "cell_type": "code",
   "execution_count": null,
   "id": "5e77aba6-c410-42a2-a754-e91da5f6e615",
   "metadata": {},
   "outputs": [],
   "source": [
    "from bs4 import BeautifulSoup\n",
    "import requests\n",
    "import re\n",
    "\n",
    "URL = input()"
   ]
  },
  {
   "cell_type": "code",
   "execution_count": null,
   "id": "8ced0b34",
   "metadata": {},
   "outputs": [],
   "source": [
    "def get_isbn_from_page(table):\n",
    "    isbn_list = [isbn.get_text() for isbn in table.find_all(href=re.compile(\"isbn\"))]\n",
    "    price_list = [price.get_text().split(\"\\xa0\")[0] for price in table.find_all(\"span\", {\"class\": \"price\"})]\n",
    "    return zip(isbn_list, price_list)    "
   ]
  },
  {
   "cell_type": "code",
   "execution_count": null,
   "id": "bccdfa23-0fab-4201-a3cc-a080ed2bd6db",
   "metadata": {
    "tags": []
   },
   "outputs": [],
   "source": [
    "def pages(url: str):\n",
    "    page = 1\n",
    "    has_next_page = True\n",
    "    while has_next_page:\n",
    "        response = requests.get(url + f'&page={page}')\n",
    "        soup = BeautifulSoup(response.text, 'html.parser')\n",
    "        table = soup.find(\"table\", \"resultlist_products\")\n",
    "        has_next_page = soup.find(\"span\", text=\"weiter\")\n",
    "        page += 1\n",
    "        yield table\n"
   ]
  },
  {
   "cell_type": "code",
   "execution_count": null,
   "id": "a744b2a3-4ff5-4653-bc6d-66666fd7e83c",
   "metadata": {},
   "outputs": [],
   "source": [
    "all_isbns = []\n",
    "for page in pages(URL):\n",
    "    all_isbns.extend(get_isbn_from_page(page))\n",
    "all_isbns"
   ]
  }
 ],
 "metadata": {
  "kernelspec": {
   "display_name": "Python 3 (ipykernel)",
   "language": "python",
   "name": "python3"
  },
  "language_info": {
   "codemirror_mode": {
    "name": "ipython",
    "version": 3
   },
   "file_extension": ".py",
   "mimetype": "text/x-python",
   "name": "python",
   "nbconvert_exporter": "python",
   "pygments_lexer": "ipython3",
   "version": "3.9.7"
  }
 },
 "nbformat": 4,
 "nbformat_minor": 5
}
