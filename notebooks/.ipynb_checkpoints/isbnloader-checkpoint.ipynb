{
 "cells": [
  {
   "cell_type": "code",
   "execution_count": 1,
   "id": "5e77aba6-c410-42a2-a754-e91da5f6e615",
   "metadata": {},
   "outputs": [],
   "source": [
    "from bs4 import BeautifulSoup\n",
    "import requests\n",
    "import re\n",
    "\n",
    "URL = 'https://www.booklooker.de/B%C3%BCcher/Angebote/autor=%2A&sparteID=664&datefrom=2022-01-19&searchUserTyp=1&land=DE&zustand=2'"
   ]
  },
  {
   "cell_type": "code",
   "execution_count": 2,
   "id": "8ced0b34",
   "metadata": {},
   "outputs": [],
   "source": [
    "def get_isbn_from_page(table):\n",
    "    return [isbn.get_text() for isbn in table.find_all(href=re.compile(\"isbn\"))]"
   ]
  },
  {
   "cell_type": "code",
   "execution_count": 3,
   "id": "bccdfa23-0fab-4201-a3cc-a080ed2bd6db",
   "metadata": {
    "tags": []
   },
   "outputs": [],
   "source": [
    "def pages(url: str):\n",
    "    page = 1\n",
    "    has_next_page = True\n",
    "    while has_next_page:\n",
    "        response = requests.get(url + f'?page={page}')\n",
    "        soup = BeautifulSoup(response.text, 'html.parser')\n",
    "        table = soup.find(\"table\", \"resultlist_products\")\n",
    "        has_next_page = soup.find(\"span\", text=\"weiter\")\n",
    "        page += 1\n",
    "        yield table\n"
   ]
  },
  {
   "cell_type": "code",
   "execution_count": 7,
   "id": "a744b2a3-4ff5-4653-bc6d-66666fd7e83c",
   "metadata": {},
   "outputs": [
    {
     "data": {
      "text/plain": [
       "['3922669549',\n",
       " '1537165224',\n",
       " '9783548373270',\n",
       " '0684869020',\n",
       " '3932114132',\n",
       " '9783527507542',\n",
       " '3888973287',\n",
       " '9783453204898',\n",
       " '393085158X',\n",
       " '3430156378',\n",
       " '3430156351',\n",
       " '9783898796293',\n",
       " '9783938350409',\n",
       " '9783898794831',\n",
       " '1592802974',\n",
       " '9783898793629',\n",
       " '3775702482',\n",
       " '3925483004',\n",
       " '3426823349',\n",
       " '9783930851805',\n",
       " '3932741064',\n",
       " '9783930851652',\n",
       " '0471944017',\n",
       " '9780136137184',\n",
       " '3932114418',\n",
       " '3706402327',\n",
       " '3932741072',\n",
       " '9783839149010',\n",
       " '3430156351',\n",
       " '3932741072',\n",
       " '9783898796309',\n",
       " '9783446412231',\n",
       " '3898790274',\n",
       " '9783898790406',\n",
       " '9783446422520',\n",
       " '9783898794138',\n",
       " '3612264508',\n",
       " '9783629022011',\n",
       " '3932114043',\n",
       " '3922669026',\n",
       " '9783812523035',\n",
       " '9783866349933',\n",
       " '3932741080',\n",
       " '393274103X',\n",
       " '9783864700460',\n",
       " '3932114248',\n",
       " '9783548373843',\n",
       " '3932741196',\n",
       " '9783942888417',\n",
       " '9780071625760',\n",
       " '9783943145205',\n",
       " '9783898798211',\n",
       " '3800633612',\n",
       " '3932114361',\n",
       " '9783864700095',\n",
       " '9783898796323',\n",
       " '3925483004',\n",
       " '3932741013',\n",
       " '9783898791281',\n",
       " '3527501037',\n",
       " '382181165X',\n",
       " '3922669018',\n",
       " '3925483004',\n",
       " '3932114043']"
      ]
     },
     "execution_count": 7,
     "metadata": {},
     "output_type": "execute_result"
    }
   ],
   "source": [
    "all_isbns = []\n",
    "for page in pages(URL):\n",
    "    all_isbns.extend(get_isbn_from_page(page))\n",
    "all_isbns"
   ]
  },
  {
   "cell_type": "code",
   "execution_count": null,
   "id": "e6ab390d-f228-4603-9917-92338beb1fc7",
   "metadata": {},
   "outputs": [],
   "source": []
  }
 ],
 "metadata": {
  "kernelspec": {
   "display_name": "Python 3 (ipykernel)",
   "language": "python",
   "name": "python3"
  },
  "language_info": {
   "codemirror_mode": {
    "name": "ipython",
    "version": 3
   },
   "file_extension": ".py",
   "mimetype": "text/x-python",
   "name": "python",
   "nbconvert_exporter": "python",
   "pygments_lexer": "ipython3",
   "version": "3.9.7"
  }
 },
 "nbformat": 4,
 "nbformat_minor": 5
}
